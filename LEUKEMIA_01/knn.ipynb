{
 "cells": [
  {
   "cell_type": "code",
   "execution_count": 1,
   "metadata": {},
   "outputs": [],
   "source": [
    "import pandas as pd\n",
    "import numpy as np\n",
    "import matplotlib.pyplot as plt\n",
    "import seaborn as sns\n",
    "from sklearn.model_selection import train_test_split\n",
    "from sklearn.preprocessing import StandardScaler"
   ]
  },
  {
   "cell_type": "code",
   "execution_count": 2,
   "metadata": {},
   "outputs": [
    {
     "data": {
      "text/html": [
       "<div>\n",
       "<style scoped>\n",
       "    .dataframe tbody tr th:only-of-type {\n",
       "        vertical-align: middle;\n",
       "    }\n",
       "\n",
       "    .dataframe tbody tr th {\n",
       "        vertical-align: top;\n",
       "    }\n",
       "\n",
       "    .dataframe thead th {\n",
       "        text-align: right;\n",
       "    }\n",
       "</style>\n",
       "<table border=\"1\" class=\"dataframe\">\n",
       "  <thead>\n",
       "    <tr style=\"text-align: right;\">\n",
       "      <th></th>\n",
       "      <th>samples</th>\n",
       "      <th>type</th>\n",
       "      <th>NM_004900</th>\n",
       "      <th>AA085955</th>\n",
       "      <th>NM_014616</th>\n",
       "      <th>AK092846</th>\n",
       "      <th>NM_001539</th>\n",
       "      <th>THC2450799</th>\n",
       "      <th>NM_006709</th>\n",
       "      <th>NM_000978</th>\n",
       "      <th>...</th>\n",
       "      <th>AF117899</th>\n",
       "      <th>A_24_P287526</th>\n",
       "      <th>THC2349421</th>\n",
       "      <th>THC2272949</th>\n",
       "      <th>NM_138411</th>\n",
       "      <th>THC2350949</th>\n",
       "      <th>CR600872</th>\n",
       "      <th>NM_016058</th>\n",
       "      <th>AF520801</th>\n",
       "      <th>NM_203414</th>\n",
       "    </tr>\n",
       "  </thead>\n",
       "  <tbody>\n",
       "    <tr>\n",
       "      <th>0</th>\n",
       "      <td>GSM831223_ATL-_1</td>\n",
       "      <td>ATL</td>\n",
       "      <td>7.759333</td>\n",
       "      <td>5.526977</td>\n",
       "      <td>9.279413</td>\n",
       "      <td>4.730458</td>\n",
       "      <td>11.097001</td>\n",
       "      <td>5.409710</td>\n",
       "      <td>6.194557</td>\n",
       "      <td>14.282856</td>\n",
       "      <td>...</td>\n",
       "      <td>5.856063</td>\n",
       "      <td>6.534970</td>\n",
       "      <td>6.035496</td>\n",
       "      <td>7.476790</td>\n",
       "      <td>4.866324</td>\n",
       "      <td>4.612706</td>\n",
       "      <td>6.109501</td>\n",
       "      <td>9.462370</td>\n",
       "      <td>4.612706</td>\n",
       "      <td>8.484984</td>\n",
       "    </tr>\n",
       "    <tr>\n",
       "      <th>1</th>\n",
       "      <td>GSM831224_ATL-_2</td>\n",
       "      <td>ATL</td>\n",
       "      <td>6.080513</td>\n",
       "      <td>5.503887</td>\n",
       "      <td>9.128079</td>\n",
       "      <td>4.903375</td>\n",
       "      <td>10.930584</td>\n",
       "      <td>4.631126</td>\n",
       "      <td>6.381124</td>\n",
       "      <td>14.280562</td>\n",
       "      <td>...</td>\n",
       "      <td>5.826412</td>\n",
       "      <td>6.413272</td>\n",
       "      <td>5.948900</td>\n",
       "      <td>5.948900</td>\n",
       "      <td>5.269268</td>\n",
       "      <td>4.698254</td>\n",
       "      <td>5.718088</td>\n",
       "      <td>9.490950</td>\n",
       "      <td>4.663896</td>\n",
       "      <td>7.095295</td>\n",
       "    </tr>\n",
       "    <tr>\n",
       "      <th>2</th>\n",
       "      <td>GSM831225_ATL-_3</td>\n",
       "      <td>ATL</td>\n",
       "      <td>9.594372</td>\n",
       "      <td>6.582465</td>\n",
       "      <td>9.838391</td>\n",
       "      <td>5.881773</td>\n",
       "      <td>11.568524</td>\n",
       "      <td>5.305547</td>\n",
       "      <td>6.743412</td>\n",
       "      <td>14.235741</td>\n",
       "      <td>...</td>\n",
       "      <td>5.548070</td>\n",
       "      <td>5.928725</td>\n",
       "      <td>6.013459</td>\n",
       "      <td>8.529502</td>\n",
       "      <td>5.471272</td>\n",
       "      <td>4.700643</td>\n",
       "      <td>5.834031</td>\n",
       "      <td>9.543813</td>\n",
       "      <td>4.882895</td>\n",
       "      <td>8.562290</td>\n",
       "    </tr>\n",
       "    <tr>\n",
       "      <th>3</th>\n",
       "      <td>GSM831226_ATL-_4</td>\n",
       "      <td>ATL</td>\n",
       "      <td>5.668196</td>\n",
       "      <td>5.513552</td>\n",
       "      <td>8.622807</td>\n",
       "      <td>4.830928</td>\n",
       "      <td>11.720891</td>\n",
       "      <td>4.651672</td>\n",
       "      <td>6.116554</td>\n",
       "      <td>14.611248</td>\n",
       "      <td>...</td>\n",
       "      <td>5.770464</td>\n",
       "      <td>6.347991</td>\n",
       "      <td>6.844252</td>\n",
       "      <td>8.372397</td>\n",
       "      <td>5.240151</td>\n",
       "      <td>5.073481</td>\n",
       "      <td>5.073481</td>\n",
       "      <td>10.083024</td>\n",
       "      <td>4.782399</td>\n",
       "      <td>6.541959</td>\n",
       "    </tr>\n",
       "    <tr>\n",
       "      <th>4</th>\n",
       "      <td>GSM831227_ATL-_5</td>\n",
       "      <td>ATL</td>\n",
       "      <td>7.979572</td>\n",
       "      <td>5.193283</td>\n",
       "      <td>8.893503</td>\n",
       "      <td>5.030561</td>\n",
       "      <td>11.073585</td>\n",
       "      <td>5.347932</td>\n",
       "      <td>6.014682</td>\n",
       "      <td>14.596186</td>\n",
       "      <td>...</td>\n",
       "      <td>5.383804</td>\n",
       "      <td>5.878142</td>\n",
       "      <td>5.353299</td>\n",
       "      <td>7.449356</td>\n",
       "      <td>5.224082</td>\n",
       "      <td>5.038731</td>\n",
       "      <td>5.279458</td>\n",
       "      <td>9.853553</td>\n",
       "      <td>4.671153</td>\n",
       "      <td>7.844617</td>\n",
       "    </tr>\n",
       "  </tbody>\n",
       "</table>\n",
       "<p>5 rows × 33581 columns</p>\n",
       "</div>"
      ],
      "text/plain": [
       "            samples type  NM_004900  AA085955  NM_014616  AK092846  NM_001539  \\\n",
       "0  GSM831223_ATL-_1  ATL   7.759333  5.526977   9.279413  4.730458  11.097001   \n",
       "1  GSM831224_ATL-_2  ATL   6.080513  5.503887   9.128079  4.903375  10.930584   \n",
       "2  GSM831225_ATL-_3  ATL   9.594372  6.582465   9.838391  5.881773  11.568524   \n",
       "3  GSM831226_ATL-_4  ATL   5.668196  5.513552   8.622807  4.830928  11.720891   \n",
       "4  GSM831227_ATL-_5  ATL   7.979572  5.193283   8.893503  5.030561  11.073585   \n",
       "\n",
       "   THC2450799  NM_006709  NM_000978  ...  AF117899  A_24_P287526  THC2349421  \\\n",
       "0    5.409710   6.194557  14.282856  ...  5.856063      6.534970    6.035496   \n",
       "1    4.631126   6.381124  14.280562  ...  5.826412      6.413272    5.948900   \n",
       "2    5.305547   6.743412  14.235741  ...  5.548070      5.928725    6.013459   \n",
       "3    4.651672   6.116554  14.611248  ...  5.770464      6.347991    6.844252   \n",
       "4    5.347932   6.014682  14.596186  ...  5.383804      5.878142    5.353299   \n",
       "\n",
       "   THC2272949  NM_138411  THC2350949  CR600872  NM_016058  AF520801  NM_203414  \n",
       "0    7.476790   4.866324    4.612706  6.109501   9.462370  4.612706   8.484984  \n",
       "1    5.948900   5.269268    4.698254  5.718088   9.490950  4.663896   7.095295  \n",
       "2    8.529502   5.471272    4.700643  5.834031   9.543813  4.882895   8.562290  \n",
       "3    8.372397   5.240151    5.073481  5.073481  10.083024  4.782399   6.541959  \n",
       "4    7.449356   5.224082    5.038731  5.279458   9.853553  4.671153   7.844617  \n",
       "\n",
       "[5 rows x 33581 columns]"
      ]
     },
     "execution_count": 2,
     "metadata": {},
     "output_type": "execute_result"
    }
   ],
   "source": [
    "database = pd.read_csv('database.csv')\n",
    "database.head()"
   ]
  },
  {
   "cell_type": "code",
   "execution_count": 3,
   "metadata": {},
   "outputs": [
    {
     "data": {
      "text/plain": [
       "(71, 33581)"
      ]
     },
     "execution_count": 3,
     "metadata": {},
     "output_type": "execute_result"
    }
   ],
   "source": [
    "database.shape"
   ]
  },
  {
   "cell_type": "code",
   "execution_count": 4,
   "metadata": {},
   "outputs": [],
   "source": [
    "# split the data into train and test\n",
    "database = database.drop('samples', axis=1)\n",
    "X = database.drop('type', axis=1)\n",
    "y = database['type']\n",
    "X_train, X_test, y_train, y_test = train_test_split(X, y, test_size=0.30, random_state=100)"
   ]
  },
  {
   "cell_type": "markdown",
   "metadata": {},
   "source": [
    "# KNN - k-nearest neighbors"
   ]
  },
  {
   "cell_type": "code",
   "execution_count": 5,
   "metadata": {},
   "outputs": [],
   "source": [
    "from sklearn.neighbors import KNeighborsClassifier"
   ]
  },
  {
   "cell_type": "code",
   "execution_count": 6,
   "metadata": {},
   "outputs": [
    {
     "data": {
      "text/html": [
       "<style>#sk-container-id-1 {color: black;}#sk-container-id-1 pre{padding: 0;}#sk-container-id-1 div.sk-toggleable {background-color: white;}#sk-container-id-1 label.sk-toggleable__label {cursor: pointer;display: block;width: 100%;margin-bottom: 0;padding: 0.3em;box-sizing: border-box;text-align: center;}#sk-container-id-1 label.sk-toggleable__label-arrow:before {content: \"▸\";float: left;margin-right: 0.25em;color: #696969;}#sk-container-id-1 label.sk-toggleable__label-arrow:hover:before {color: black;}#sk-container-id-1 div.sk-estimator:hover label.sk-toggleable__label-arrow:before {color: black;}#sk-container-id-1 div.sk-toggleable__content {max-height: 0;max-width: 0;overflow: hidden;text-align: left;background-color: #f0f8ff;}#sk-container-id-1 div.sk-toggleable__content pre {margin: 0.2em;color: black;border-radius: 0.25em;background-color: #f0f8ff;}#sk-container-id-1 input.sk-toggleable__control:checked~div.sk-toggleable__content {max-height: 200px;max-width: 100%;overflow: auto;}#sk-container-id-1 input.sk-toggleable__control:checked~label.sk-toggleable__label-arrow:before {content: \"▾\";}#sk-container-id-1 div.sk-estimator input.sk-toggleable__control:checked~label.sk-toggleable__label {background-color: #d4ebff;}#sk-container-id-1 div.sk-label input.sk-toggleable__control:checked~label.sk-toggleable__label {background-color: #d4ebff;}#sk-container-id-1 input.sk-hidden--visually {border: 0;clip: rect(1px 1px 1px 1px);clip: rect(1px, 1px, 1px, 1px);height: 1px;margin: -1px;overflow: hidden;padding: 0;position: absolute;width: 1px;}#sk-container-id-1 div.sk-estimator {font-family: monospace;background-color: #f0f8ff;border: 1px dotted black;border-radius: 0.25em;box-sizing: border-box;margin-bottom: 0.5em;}#sk-container-id-1 div.sk-estimator:hover {background-color: #d4ebff;}#sk-container-id-1 div.sk-parallel-item::after {content: \"\";width: 100%;border-bottom: 1px solid gray;flex-grow: 1;}#sk-container-id-1 div.sk-label:hover label.sk-toggleable__label {background-color: #d4ebff;}#sk-container-id-1 div.sk-serial::before {content: \"\";position: absolute;border-left: 1px solid gray;box-sizing: border-box;top: 0;bottom: 0;left: 50%;z-index: 0;}#sk-container-id-1 div.sk-serial {display: flex;flex-direction: column;align-items: center;background-color: white;padding-right: 0.2em;padding-left: 0.2em;position: relative;}#sk-container-id-1 div.sk-item {position: relative;z-index: 1;}#sk-container-id-1 div.sk-parallel {display: flex;align-items: stretch;justify-content: center;background-color: white;position: relative;}#sk-container-id-1 div.sk-item::before, #sk-container-id-1 div.sk-parallel-item::before {content: \"\";position: absolute;border-left: 1px solid gray;box-sizing: border-box;top: 0;bottom: 0;left: 50%;z-index: -1;}#sk-container-id-1 div.sk-parallel-item {display: flex;flex-direction: column;z-index: 1;position: relative;background-color: white;}#sk-container-id-1 div.sk-parallel-item:first-child::after {align-self: flex-end;width: 50%;}#sk-container-id-1 div.sk-parallel-item:last-child::after {align-self: flex-start;width: 50%;}#sk-container-id-1 div.sk-parallel-item:only-child::after {width: 0;}#sk-container-id-1 div.sk-dashed-wrapped {border: 1px dashed gray;margin: 0 0.4em 0.5em 0.4em;box-sizing: border-box;padding-bottom: 0.4em;background-color: white;}#sk-container-id-1 div.sk-label label {font-family: monospace;font-weight: bold;display: inline-block;line-height: 1.2em;}#sk-container-id-1 div.sk-label-container {text-align: center;}#sk-container-id-1 div.sk-container {/* jupyter's `normalize.less` sets `[hidden] { display: none; }` but bootstrap.min.css set `[hidden] { display: none !important; }` so we also need the `!important` here to be able to override the default hidden behavior on the sphinx rendered scikit-learn.org. See: https://github.com/scikit-learn/scikit-learn/issues/21755 */display: inline-block !important;position: relative;}#sk-container-id-1 div.sk-text-repr-fallback {display: none;}</style><div id=\"sk-container-id-1\" class=\"sk-top-container\"><div class=\"sk-text-repr-fallback\"><pre>KNeighborsClassifier(n_neighbors=1)</pre><b>In a Jupyter environment, please rerun this cell to show the HTML representation or trust the notebook. <br />On GitHub, the HTML representation is unable to render, please try loading this page with nbviewer.org.</b></div><div class=\"sk-container\" hidden><div class=\"sk-item\"><div class=\"sk-estimator sk-toggleable\"><input class=\"sk-toggleable__control sk-hidden--visually\" id=\"sk-estimator-id-1\" type=\"checkbox\" checked><label for=\"sk-estimator-id-1\" class=\"sk-toggleable__label sk-toggleable__label-arrow\">KNeighborsClassifier</label><div class=\"sk-toggleable__content\"><pre>KNeighborsClassifier(n_neighbors=1)</pre></div></div></div></div></div>"
      ],
      "text/plain": [
       "KNeighborsClassifier(n_neighbors=1)"
      ]
     },
     "execution_count": 6,
     "metadata": {},
     "output_type": "execute_result"
    }
   ],
   "source": [
    "knn_classifier = KNeighborsClassifier(n_neighbors=1, metric='minkowski', p=2)\n",
    "knn_classifier.fit(X_train, y_train)"
   ]
  },
  {
   "cell_type": "code",
   "execution_count": 7,
   "metadata": {},
   "outputs": [
    {
     "data": {
      "text/plain": [
       "array(['ATL', 'normal', 'ATL', 'ATL', 'ATL', 'ATL', 'ATL', 'ATL', 'ATL',\n",
       "       'normal', 'ATL', 'ATL', 'normal', 'ATL', 'normal', 'ATL', 'ATL',\n",
       "       'ATL', 'ATL', 'ATL', 'normal', 'normal'], dtype=object)"
      ]
     },
     "execution_count": 7,
     "metadata": {},
     "output_type": "execute_result"
    }
   ],
   "source": [
    "predictions = knn_classifier.predict(X_test)\n",
    "predictions"
   ]
  },
  {
   "cell_type": "code",
   "execution_count": 8,
   "metadata": {},
   "outputs": [
    {
     "data": {
      "text/plain": [
       "39       ATL\n",
       "51    normal\n",
       "11       ATL\n",
       "18       ATL\n",
       "30       ATL\n",
       "38       ATL\n",
       "26       ATL\n",
       "23       ATL\n",
       "40       ATL\n",
       "50    normal\n",
       "20       ATL\n",
       "45       ATL\n",
       "70    normal\n",
       "41       ATL\n",
       "66    normal\n",
       "5        ATL\n",
       "28       ATL\n",
       "0        ATL\n",
       "12       ATL\n",
       "6        ATL\n",
       "54    normal\n",
       "60    normal\n",
       "Name: type, dtype: object"
      ]
     },
     "execution_count": 8,
     "metadata": {},
     "output_type": "execute_result"
    }
   ],
   "source": [
    "y_test"
   ]
  },
  {
   "cell_type": "code",
   "execution_count": 9,
   "metadata": {},
   "outputs": [],
   "source": [
    "from sklearn.metrics import accuracy_score, classification_report"
   ]
  },
  {
   "cell_type": "code",
   "execution_count": 10,
   "metadata": {},
   "outputs": [
    {
     "data": {
      "text/plain": [
       "1.0"
      ]
     },
     "execution_count": 10,
     "metadata": {},
     "output_type": "execute_result"
    }
   ],
   "source": [
    "accuracy_score(y_test, predictions)"
   ]
  },
  {
   "cell_type": "code",
   "execution_count": 11,
   "metadata": {},
   "outputs": [
    {
     "name": "stderr",
     "output_type": "stream",
     "text": [
      "/home/jonathan/.local/lib/python3.10/site-packages/sklearn/base.py:465: UserWarning: X does not have valid feature names, but KNeighborsClassifier was fitted with feature names\n",
      "  warnings.warn(\n"
     ]
    },
    {
     "data": {
      "text/plain": [
       "1.0"
      ]
     },
     "execution_count": 11,
     "metadata": {},
     "output_type": "execute_result"
    },
    {
     "data": {
      "image/png": "[encoded data removed]",
      "text/plain": [
       "<Figure size 800x550 with 1 Axes>"
      ]
     },
     "metadata": {},
     "output_type": "display_data"
    }
   ],
   "source": [
    "from yellowbrick.classifier import ConfusionMatrix\n",
    "cm = ConfusionMatrix(knn_classifier)\n",
    "cm.fit(X_train, y_train) \n",
    "cm.score(X_test, y_test)"
   ]
  },
  {
   "cell_type": "code",
   "execution_count": 12,
   "metadata": {},
   "outputs": [
    {
     "name": "stdout",
     "output_type": "stream",
     "text": [
      "              precision    recall  f1-score   support\n",
      "\n",
      "         ATL       1.00      1.00      1.00        16\n",
      "      normal       1.00      1.00      1.00         6\n",
      "\n",
      "    accuracy                           1.00        22\n",
      "   macro avg       1.00      1.00      1.00        22\n",
      "weighted avg       1.00      1.00      1.00        22\n",
      "\n"
     ]
    }
   ],
   "source": [
    "print(classification_report(y_test, predictions))"
   ]
  },
  {
   "cell_type": "code",
   "execution_count": null,
   "metadata": {},
   "outputs": [],
   "source": []
  }
 ],
 "metadata": {
  "kernelspec": {
   "display_name": "Python 3",
   "language": "python",
   "name": "python3"
  },
  "language_info": {
   "codemirror_mode": {
    "name": "ipython",
    "version": 3
   },
   "file_extension": ".py",
   "mimetype": "text/x-python",
   "name": "python",
   "nbconvert_exporter": "python",
   "pygments_lexer": "ipython3",
   "version": "3.10.12"
  }
 },
 "nbformat": 4,
 "nbformat_minor": 2
}
