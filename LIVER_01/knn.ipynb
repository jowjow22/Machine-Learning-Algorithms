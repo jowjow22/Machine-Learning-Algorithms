{
 "cells": [
  {
   "cell_type": "code",
   "execution_count": 131,
   "metadata": {},
   "outputs": [],
   "source": [
    "import pandas as pd\n",
    "import numpy as np\n",
    "import matplotlib.pyplot as plt\n",
    "import seaborn as sns\n",
    "from sklearn.model_selection import train_test_split\n",
    "from sklearn.preprocessing import StandardScaler"
   ]
  },
  {
   "cell_type": "code",
   "execution_count": 132,
   "metadata": {},
   "outputs": [
    {
     "data": {
      "text/html": [
       "<div>\n",
       "<style scoped>\n",
       "    .dataframe tbody tr th:only-of-type {\n",
       "        vertical-align: middle;\n",
       "    }\n",
       "\n",
       "    .dataframe tbody tr th {\n",
       "        vertical-align: top;\n",
       "    }\n",
       "\n",
       "    .dataframe thead th {\n",
       "        text-align: right;\n",
       "    }\n",
       "</style>\n",
       "<table border=\"1\" class=\"dataframe\">\n",
       "  <thead>\n",
       "    <tr style=\"text-align: right;\">\n",
       "      <th></th>\n",
       "      <th>samples</th>\n",
       "      <th>type</th>\n",
       "      <th>1007_s_at</th>\n",
       "      <th>1053_at</th>\n",
       "      <th>117_at</th>\n",
       "      <th>121_at</th>\n",
       "      <th>1255_g_at</th>\n",
       "      <th>1294_at</th>\n",
       "      <th>1316_at</th>\n",
       "      <th>1320_at</th>\n",
       "      <th>...</th>\n",
       "      <th>AFFX-r2-Ec-bioD-3_at</th>\n",
       "      <th>AFFX-r2-Ec-bioD-5_at</th>\n",
       "      <th>AFFX-r2-P1-cre-3_at</th>\n",
       "      <th>AFFX-r2-P1-cre-5_at</th>\n",
       "      <th>AFFX-ThrX-3_at</th>\n",
       "      <th>AFFX-ThrX-5_at</th>\n",
       "      <th>AFFX-ThrX-M_at</th>\n",
       "      <th>AFFX-TrpnX-3_at</th>\n",
       "      <th>AFFX-TrpnX-5_at</th>\n",
       "      <th>AFFX-TrpnX-M_at</th>\n",
       "    </tr>\n",
       "  </thead>\n",
       "  <tbody>\n",
       "    <tr>\n",
       "      <th>0</th>\n",
       "      <td>329</td>\n",
       "      <td>normal</td>\n",
       "      <td>7.265076</td>\n",
       "      <td>6.490719</td>\n",
       "      <td>5.837105</td>\n",
       "      <td>7.861153</td>\n",
       "      <td>2.958316</td>\n",
       "      <td>6.915526</td>\n",
       "      <td>5.164356</td>\n",
       "      <td>5.191775</td>\n",
       "      <td>...</td>\n",
       "      <td>11.512426</td>\n",
       "      <td>10.687612</td>\n",
       "      <td>13.186275</td>\n",
       "      <td>12.790031</td>\n",
       "      <td>3.798619</td>\n",
       "      <td>3.165678</td>\n",
       "      <td>2.758158</td>\n",
       "      <td>2.494656</td>\n",
       "      <td>3.092373</td>\n",
       "      <td>2.830248</td>\n",
       "    </tr>\n",
       "    <tr>\n",
       "      <th>1</th>\n",
       "      <td>330</td>\n",
       "      <td>normal</td>\n",
       "      <td>7.294932</td>\n",
       "      <td>6.455398</td>\n",
       "      <td>5.497091</td>\n",
       "      <td>7.693888</td>\n",
       "      <td>3.048464</td>\n",
       "      <td>6.997462</td>\n",
       "      <td>5.118763</td>\n",
       "      <td>5.323904</td>\n",
       "      <td>...</td>\n",
       "      <td>11.382575</td>\n",
       "      <td>10.496178</td>\n",
       "      <td>13.163114</td>\n",
       "      <td>12.677342</td>\n",
       "      <td>3.971772</td>\n",
       "      <td>3.420614</td>\n",
       "      <td>2.831661</td>\n",
       "      <td>2.472950</td>\n",
       "      <td>3.034824</td>\n",
       "      <td>2.924207</td>\n",
       "    </tr>\n",
       "    <tr>\n",
       "      <th>2</th>\n",
       "      <td>331</td>\n",
       "      <td>normal</td>\n",
       "      <td>8.101461</td>\n",
       "      <td>6.606037</td>\n",
       "      <td>5.809597</td>\n",
       "      <td>7.566532</td>\n",
       "      <td>2.915527</td>\n",
       "      <td>6.695817</td>\n",
       "      <td>5.084102</td>\n",
       "      <td>4.924389</td>\n",
       "      <td>...</td>\n",
       "      <td>11.564506</td>\n",
       "      <td>10.643955</td>\n",
       "      <td>13.181717</td>\n",
       "      <td>12.782085</td>\n",
       "      <td>4.223112</td>\n",
       "      <td>3.303236</td>\n",
       "      <td>2.782225</td>\n",
       "      <td>2.522477</td>\n",
       "      <td>3.144511</td>\n",
       "      <td>2.715381</td>\n",
       "    </tr>\n",
       "    <tr>\n",
       "      <th>3</th>\n",
       "      <td>332</td>\n",
       "      <td>normal</td>\n",
       "      <td>8.149318</td>\n",
       "      <td>6.181394</td>\n",
       "      <td>5.523731</td>\n",
       "      <td>7.585691</td>\n",
       "      <td>3.085838</td>\n",
       "      <td>7.096813</td>\n",
       "      <td>5.163067</td>\n",
       "      <td>4.877522</td>\n",
       "      <td>...</td>\n",
       "      <td>11.731514</td>\n",
       "      <td>10.644385</td>\n",
       "      <td>13.266748</td>\n",
       "      <td>12.822743</td>\n",
       "      <td>4.291681</td>\n",
       "      <td>3.811840</td>\n",
       "      <td>3.138734</td>\n",
       "      <td>2.691352</td>\n",
       "      <td>3.159991</td>\n",
       "      <td>2.980692</td>\n",
       "    </tr>\n",
       "    <tr>\n",
       "      <th>4</th>\n",
       "      <td>333</td>\n",
       "      <td>normal</td>\n",
       "      <td>7.761231</td>\n",
       "      <td>6.392766</td>\n",
       "      <td>6.036852</td>\n",
       "      <td>7.624368</td>\n",
       "      <td>2.851356</td>\n",
       "      <td>6.795762</td>\n",
       "      <td>4.953513</td>\n",
       "      <td>4.973692</td>\n",
       "      <td>...</td>\n",
       "      <td>11.692599</td>\n",
       "      <td>11.254999</td>\n",
       "      <td>13.397345</td>\n",
       "      <td>12.944275</td>\n",
       "      <td>3.716410</td>\n",
       "      <td>3.307700</td>\n",
       "      <td>2.662943</td>\n",
       "      <td>2.534129</td>\n",
       "      <td>2.967716</td>\n",
       "      <td>3.029605</td>\n",
       "    </tr>\n",
       "  </tbody>\n",
       "</table>\n",
       "<p>5 rows × 54677 columns</p>\n",
       "</div>"
      ],
      "text/plain": [
       "   samples    type  1007_s_at   1053_at    117_at    121_at  1255_g_at  \\\n",
       "0      329  normal   7.265076  6.490719  5.837105  7.861153   2.958316   \n",
       "1      330  normal   7.294932  6.455398  5.497091  7.693888   3.048464   \n",
       "2      331  normal   8.101461  6.606037  5.809597  7.566532   2.915527   \n",
       "3      332  normal   8.149318  6.181394  5.523731  7.585691   3.085838   \n",
       "4      333  normal   7.761231  6.392766  6.036852  7.624368   2.851356   \n",
       "\n",
       "    1294_at   1316_at   1320_at  ...  AFFX-r2-Ec-bioD-3_at  \\\n",
       "0  6.915526  5.164356  5.191775  ...             11.512426   \n",
       "1  6.997462  5.118763  5.323904  ...             11.382575   \n",
       "2  6.695817  5.084102  4.924389  ...             11.564506   \n",
       "3  7.096813  5.163067  4.877522  ...             11.731514   \n",
       "4  6.795762  4.953513  4.973692  ...             11.692599   \n",
       "\n",
       "   AFFX-r2-Ec-bioD-5_at  AFFX-r2-P1-cre-3_at  AFFX-r2-P1-cre-5_at  \\\n",
       "0             10.687612            13.186275            12.790031   \n",
       "1             10.496178            13.163114            12.677342   \n",
       "2             10.643955            13.181717            12.782085   \n",
       "3             10.644385            13.266748            12.822743   \n",
       "4             11.254999            13.397345            12.944275   \n",
       "\n",
       "   AFFX-ThrX-3_at  AFFX-ThrX-5_at  AFFX-ThrX-M_at  AFFX-TrpnX-3_at  \\\n",
       "0        3.798619        3.165678        2.758158         2.494656   \n",
       "1        3.971772        3.420614        2.831661         2.472950   \n",
       "2        4.223112        3.303236        2.782225         2.522477   \n",
       "3        4.291681        3.811840        3.138734         2.691352   \n",
       "4        3.716410        3.307700        2.662943         2.534129   \n",
       "\n",
       "   AFFX-TrpnX-5_at  AFFX-TrpnX-M_at  \n",
       "0         3.092373         2.830248  \n",
       "1         3.034824         2.924207  \n",
       "2         3.144511         2.715381  \n",
       "3         3.159991         2.980692  \n",
       "4         2.967716         3.029605  \n",
       "\n",
       "[5 rows x 54677 columns]"
      ]
     },
     "execution_count": 132,
     "metadata": {},
     "output_type": "execute_result"
    }
   ],
   "source": [
    "database = pd.read_csv('database.csv')\n",
    "database.head()"
   ]
  },
  {
   "cell_type": "code",
   "execution_count": 133,
   "metadata": {},
   "outputs": [
    {
     "data": {
      "text/plain": [
       "(91, 54677)"
      ]
     },
     "execution_count": 133,
     "metadata": {},
     "output_type": "execute_result"
    }
   ],
   "source": [
    "database.shape"
   ]
  },
  {
   "cell_type": "code",
   "execution_count": 134,
   "metadata": {},
   "outputs": [],
   "source": [
    "# split the data into train and test\n",
    "database = database.drop('samples', axis=1)\n",
    "X = database.drop('type', axis=1)\n",
    "y = database['type']\n",
    "X_train, X_test, y_train, y_test = train_test_split(X, y, test_size=0.30, random_state=100)"
   ]
  },
  {
   "cell_type": "markdown",
   "metadata": {},
   "source": [
    "# KNN - k-nearest neighbors"
   ]
  },
  {
   "cell_type": "code",
   "execution_count": 135,
   "metadata": {},
   "outputs": [],
   "source": [
    "from sklearn.neighbors import KNeighborsClassifier"
   ]
  },
  {
   "cell_type": "code",
   "execution_count": 136,
   "metadata": {},
   "outputs": [
    {
     "data": {
      "text/html": [
       "<style>#sk-container-id-11 {color: black;}#sk-container-id-11 pre{padding: 0;}#sk-container-id-11 div.sk-toggleable {background-color: white;}#sk-container-id-11 label.sk-toggleable__label {cursor: pointer;display: block;width: 100%;margin-bottom: 0;padding: 0.3em;box-sizing: border-box;text-align: center;}#sk-container-id-11 label.sk-toggleable__label-arrow:before {content: \"▸\";float: left;margin-right: 0.25em;color: #696969;}#sk-container-id-11 label.sk-toggleable__label-arrow:hover:before {color: black;}#sk-container-id-11 div.sk-estimator:hover label.sk-toggleable__label-arrow:before {color: black;}#sk-container-id-11 div.sk-toggleable__content {max-height: 0;max-width: 0;overflow: hidden;text-align: left;background-color: #f0f8ff;}#sk-container-id-11 div.sk-toggleable__content pre {margin: 0.2em;color: black;border-radius: 0.25em;background-color: #f0f8ff;}#sk-container-id-11 input.sk-toggleable__control:checked~div.sk-toggleable__content {max-height: 200px;max-width: 100%;overflow: auto;}#sk-container-id-11 input.sk-toggleable__control:checked~label.sk-toggleable__label-arrow:before {content: \"▾\";}#sk-container-id-11 div.sk-estimator input.sk-toggleable__control:checked~label.sk-toggleable__label {background-color: #d4ebff;}#sk-container-id-11 div.sk-label input.sk-toggleable__control:checked~label.sk-toggleable__label {background-color: #d4ebff;}#sk-container-id-11 input.sk-hidden--visually {border: 0;clip: rect(1px 1px 1px 1px);clip: rect(1px, 1px, 1px, 1px);height: 1px;margin: -1px;overflow: hidden;padding: 0;position: absolute;width: 1px;}#sk-container-id-11 div.sk-estimator {font-family: monospace;background-color: #f0f8ff;border: 1px dotted black;border-radius: 0.25em;box-sizing: border-box;margin-bottom: 0.5em;}#sk-container-id-11 div.sk-estimator:hover {background-color: #d4ebff;}#sk-container-id-11 div.sk-parallel-item::after {content: \"\";width: 100%;border-bottom: 1px solid gray;flex-grow: 1;}#sk-container-id-11 div.sk-label:hover label.sk-toggleable__label {background-color: #d4ebff;}#sk-container-id-11 div.sk-serial::before {content: \"\";position: absolute;border-left: 1px solid gray;box-sizing: border-box;top: 0;bottom: 0;left: 50%;z-index: 0;}#sk-container-id-11 div.sk-serial {display: flex;flex-direction: column;align-items: center;background-color: white;padding-right: 0.2em;padding-left: 0.2em;position: relative;}#sk-container-id-11 div.sk-item {position: relative;z-index: 1;}#sk-container-id-11 div.sk-parallel {display: flex;align-items: stretch;justify-content: center;background-color: white;position: relative;}#sk-container-id-11 div.sk-item::before, #sk-container-id-11 div.sk-parallel-item::before {content: \"\";position: absolute;border-left: 1px solid gray;box-sizing: border-box;top: 0;bottom: 0;left: 50%;z-index: -1;}#sk-container-id-11 div.sk-parallel-item {display: flex;flex-direction: column;z-index: 1;position: relative;background-color: white;}#sk-container-id-11 div.sk-parallel-item:first-child::after {align-self: flex-end;width: 50%;}#sk-container-id-11 div.sk-parallel-item:last-child::after {align-self: flex-start;width: 50%;}#sk-container-id-11 div.sk-parallel-item:only-child::after {width: 0;}#sk-container-id-11 div.sk-dashed-wrapped {border: 1px dashed gray;margin: 0 0.4em 0.5em 0.4em;box-sizing: border-box;padding-bottom: 0.4em;background-color: white;}#sk-container-id-11 div.sk-label label {font-family: monospace;font-weight: bold;display: inline-block;line-height: 1.2em;}#sk-container-id-11 div.sk-label-container {text-align: center;}#sk-container-id-11 div.sk-container {/* jupyter's `normalize.less` sets `[hidden] { display: none; }` but bootstrap.min.css set `[hidden] { display: none !important; }` so we also need the `!important` here to be able to override the default hidden behavior on the sphinx rendered scikit-learn.org. See: https://github.com/scikit-learn/scikit-learn/issues/21755 */display: inline-block !important;position: relative;}#sk-container-id-11 div.sk-text-repr-fallback {display: none;}</style><div id=\"sk-container-id-11\" class=\"sk-top-container\"><div class=\"sk-text-repr-fallback\"><pre>KNeighborsClassifier(n_neighbors=1)</pre><b>In a Jupyter environment, please rerun this cell to show the HTML representation or trust the notebook. <br />On GitHub, the HTML representation is unable to render, please try loading this page with nbviewer.org.</b></div><div class=\"sk-container\" hidden><div class=\"sk-item\"><div class=\"sk-estimator sk-toggleable\"><input class=\"sk-toggleable__control sk-hidden--visually\" id=\"sk-estimator-id-11\" type=\"checkbox\" checked><label for=\"sk-estimator-id-11\" class=\"sk-toggleable__label sk-toggleable__label-arrow\">KNeighborsClassifier</label><div class=\"sk-toggleable__content\"><pre>KNeighborsClassifier(n_neighbors=1)</pre></div></div></div></div></div>"
      ],
      "text/plain": [
       "KNeighborsClassifier(n_neighbors=1)"
      ]
     },
     "execution_count": 136,
     "metadata": {},
     "output_type": "execute_result"
    }
   ],
   "source": [
    "knn_classifier = KNeighborsClassifier(n_neighbors=1, metric='minkowski', p=2)\n",
    "knn_classifier.fit(X_train, y_train)"
   ]
  },
  {
   "cell_type": "code",
   "execution_count": 137,
   "metadata": {},
   "outputs": [
    {
     "data": {
      "text/plain": [
       "array(['HCC', 'HCC', 'HCC', 'HCC', 'HCC', 'HCC', 'HCC', 'HCC', 'HCC',\n",
       "       'HCC', 'normal', 'HCC', 'HCC', 'HCC', 'HCC', 'HCC', 'HCC', 'HCC',\n",
       "       'HCC', 'HCC', 'HCC', 'HCC', 'normal', 'normal', 'HCC', 'HCC',\n",
       "       'HCC', 'HCC'], dtype=object)"
      ]
     },
     "execution_count": 137,
     "metadata": {},
     "output_type": "execute_result"
    }
   ],
   "source": [
    "predictions = knn_classifier.predict(X_test)\n",
    "predictions"
   ]
  },
  {
   "cell_type": "code",
   "execution_count": 138,
   "metadata": {},
   "outputs": [
    {
     "data": {
      "text/plain": [
       "57       HCC\n",
       "61       HCC\n",
       "26       HCC\n",
       "29       HCC\n",
       "43       HCC\n",
       "56       HCC\n",
       "35       HCC\n",
       "44       HCC\n",
       "22       HCC\n",
       "75       HCC\n",
       "5     normal\n",
       "32       HCC\n",
       "11       HCC\n",
       "65       HCC\n",
       "28       HCC\n",
       "73       HCC\n",
       "36       HCC\n",
       "69       HCC\n",
       "78       HCC\n",
       "77       HCC\n",
       "20       HCC\n",
       "23       HCC\n",
       "6     normal\n",
       "3     normal\n",
       "40       HCC\n",
       "12       HCC\n",
       "25       HCC\n",
       "37       HCC\n",
       "Name: type, dtype: object"
      ]
     },
     "execution_count": 138,
     "metadata": {},
     "output_type": "execute_result"
    }
   ],
   "source": [
    "y_test"
   ]
  },
  {
   "cell_type": "code",
   "execution_count": 139,
   "metadata": {},
   "outputs": [],
   "source": [
    "from sklearn.metrics import accuracy_score, classification_report"
   ]
  },
  {
   "cell_type": "code",
   "execution_count": 140,
   "metadata": {},
   "outputs": [
    {
     "data": {
      "text/plain": [
       "1.0"
      ]
     },
     "execution_count": 140,
     "metadata": {},
     "output_type": "execute_result"
    }
   ],
   "source": [
    "accuracy_score(y_test, predictions)"
   ]
  },
  {
   "cell_type": "code",
   "execution_count": 141,
   "metadata": {},
   "outputs": [
    {
     "name": "stderr",
     "output_type": "stream",
     "text": [
      "/home/jonathan/.local/lib/python3.10/site-packages/sklearn/base.py:465: UserWarning: X does not have valid feature names, but KNeighborsClassifier was fitted with feature names\n",
      "  warnings.warn(\n"
     ]
    },
    {
     "data": {
      "text/plain": [
       "1.0"
      ]
     },
     "execution_count": 141,
     "metadata": {},
     "output_type": "execute_result"
    },
    {
     "data": {
      "image/png": "[encoded data removed]",
      "text/plain": [
       "<Figure size 800x550 with 1 Axes>"
      ]
     },
     "metadata": {},
     "output_type": "display_data"
    }
   ],
   "source": [
    "from yellowbrick.classifier import ConfusionMatrix\n",
    "cm = ConfusionMatrix(knn_classifier)\n",
    "cm.fit(X_train, y_train) \n",
    "cm.score(X_test, y_test)"
   ]
  },
  {
   "cell_type": "code",
   "execution_count": 142,
   "metadata": {},
   "outputs": [
    {
     "name": "stdout",
     "output_type": "stream",
     "text": [
      "              precision    recall  f1-score   support\n",
      "\n",
      "         HCC       1.00      1.00      1.00        25\n",
      "      normal       1.00      1.00      1.00         3\n",
      "\n",
      "    accuracy                           1.00        28\n",
      "   macro avg       1.00      1.00      1.00        28\n",
      "weighted avg       1.00      1.00      1.00        28\n",
      "\n"
     ]
    }
   ],
   "source": [
    "print(classification_report(y_test, predictions))"
   ]
  },
  {
   "cell_type": "code",
   "execution_count": null,
   "metadata": {},
   "outputs": [],
   "source": []
  }
 ],
 "metadata": {
  "kernelspec": {
   "display_name": "Python 3",
   "language": "python",
   "name": "python3"
  },
  "language_info": {
   "codemirror_mode": {
    "name": "ipython",
    "version": 3
   },
   "file_extension": ".py",
   "mimetype": "text/x-python",
   "name": "python",
   "nbconvert_exporter": "python",
   "pygments_lexer": "ipython3",
   "version": "3.10.12"
  }
 },
 "nbformat": 4,
 "nbformat_minor": 2
}
