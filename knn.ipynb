{
 "cells": [
  {
   "cell_type": "code",
   "execution_count": 88,
   "metadata": {},
   "outputs": [],
   "source": [
    "import pandas as pd\n",
    "import numpy as np\n",
    "import matplotlib.pyplot as plt\n",
    "import seaborn as sns\n",
    "from sklearn.model_selection import train_test_split\n",
    "from sklearn.preprocessing import StandardScaler"
   ]
  },
  {
   "cell_type": "code",
   "execution_count": 89,
   "metadata": {},
   "outputs": [
    {
     "data": {
      "text/html": [
       "<div>\n",
       "<style scoped>\n",
       "    .dataframe tbody tr th:only-of-type {\n",
       "        vertical-align: middle;\n",
       "    }\n",
       "\n",
       "    .dataframe tbody tr th {\n",
       "        vertical-align: top;\n",
       "    }\n",
       "\n",
       "    .dataframe thead th {\n",
       "        text-align: right;\n",
       "    }\n",
       "</style>\n",
       "<table border=\"1\" class=\"dataframe\">\n",
       "  <thead>\n",
       "    <tr style=\"text-align: right;\">\n",
       "      <th></th>\n",
       "      <th>samples</th>\n",
       "      <th>type</th>\n",
       "      <th>NM_144987</th>\n",
       "      <th>NM_013290</th>\n",
       "      <th>ENST00000322831</th>\n",
       "      <th>NM_001625</th>\n",
       "      <th>lincRNA:chr7:226042-232442_R</th>\n",
       "      <th>NM_032391</th>\n",
       "      <th>ENST00000238571</th>\n",
       "      <th>XR_108906</th>\n",
       "      <th>...</th>\n",
       "      <th>lincRNA:chr4:77860976-77869926_F</th>\n",
       "      <th>NM_152343</th>\n",
       "      <th>NM_001005327</th>\n",
       "      <th>NM_001039355</th>\n",
       "      <th>lincRNA:chr21:44456656-44468556_R</th>\n",
       "      <th>lincRNA:chr9:4869500-4896050_F</th>\n",
       "      <th>NM_016053</th>\n",
       "      <th>NM_001080425</th>\n",
       "      <th>ENST00000555638</th>\n",
       "      <th>ENST00000508993</th>\n",
       "    </tr>\n",
       "  </thead>\n",
       "  <tbody>\n",
       "    <tr>\n",
       "      <th>0</th>\n",
       "      <td>GSM1823702_252800417016_S01_GE1_107_Sep09_1_2</td>\n",
       "      <td>normal</td>\n",
       "      <td>8.693318</td>\n",
       "      <td>7.718016</td>\n",
       "      <td>6.044438</td>\n",
       "      <td>10.747077</td>\n",
       "      <td>9.133777</td>\n",
       "      <td>4.735581</td>\n",
       "      <td>5.634732</td>\n",
       "      <td>4.670231</td>\n",
       "      <td>...</td>\n",
       "      <td>7.570363</td>\n",
       "      <td>6.368684</td>\n",
       "      <td>4.784042</td>\n",
       "      <td>10.747723</td>\n",
       "      <td>5.090500</td>\n",
       "      <td>5.994149</td>\n",
       "      <td>10.649336</td>\n",
       "      <td>8.969439</td>\n",
       "      <td>4.985693</td>\n",
       "      <td>5.090500</td>\n",
       "    </tr>\n",
       "    <tr>\n",
       "      <th>1</th>\n",
       "      <td>GSM1823703_252800417016_S01_GE1_107_Sep09_2_1</td>\n",
       "      <td>normal</td>\n",
       "      <td>9.375980</td>\n",
       "      <td>7.072232</td>\n",
       "      <td>6.976741</td>\n",
       "      <td>10.429671</td>\n",
       "      <td>9.526500</td>\n",
       "      <td>5.221089</td>\n",
       "      <td>5.425187</td>\n",
       "      <td>4.860931</td>\n",
       "      <td>...</td>\n",
       "      <td>7.903335</td>\n",
       "      <td>5.713115</td>\n",
       "      <td>4.421074</td>\n",
       "      <td>11.299200</td>\n",
       "      <td>4.447052</td>\n",
       "      <td>4.421074</td>\n",
       "      <td>10.746854</td>\n",
       "      <td>8.174489</td>\n",
       "      <td>4.464177</td>\n",
       "      <td>4.536891</td>\n",
       "    </tr>\n",
       "    <tr>\n",
       "      <th>2</th>\n",
       "      <td>GSM1823704_252800416877_S01_GE1_107_Sep09_2_3</td>\n",
       "      <td>normal</td>\n",
       "      <td>8.943442</td>\n",
       "      <td>7.964573</td>\n",
       "      <td>6.269055</td>\n",
       "      <td>10.825025</td>\n",
       "      <td>9.396855</td>\n",
       "      <td>5.258506</td>\n",
       "      <td>5.824921</td>\n",
       "      <td>4.964604</td>\n",
       "      <td>...</td>\n",
       "      <td>7.705765</td>\n",
       "      <td>6.595364</td>\n",
       "      <td>4.410870</td>\n",
       "      <td>10.576807</td>\n",
       "      <td>5.003699</td>\n",
       "      <td>6.529257</td>\n",
       "      <td>10.430034</td>\n",
       "      <td>8.473468</td>\n",
       "      <td>4.668447</td>\n",
       "      <td>5.084127</td>\n",
       "    </tr>\n",
       "    <tr>\n",
       "      <th>3</th>\n",
       "      <td>GSM1823705_252800416894_S01_GE1_107_Sep09_1_1</td>\n",
       "      <td>normal</td>\n",
       "      <td>9.020798</td>\n",
       "      <td>7.824639</td>\n",
       "      <td>6.165165</td>\n",
       "      <td>11.646788</td>\n",
       "      <td>8.776462</td>\n",
       "      <td>4.648655</td>\n",
       "      <td>6.676692</td>\n",
       "      <td>4.770186</td>\n",
       "      <td>...</td>\n",
       "      <td>6.633058</td>\n",
       "      <td>5.786781</td>\n",
       "      <td>4.572984</td>\n",
       "      <td>11.175090</td>\n",
       "      <td>4.990888</td>\n",
       "      <td>6.669871</td>\n",
       "      <td>11.110395</td>\n",
       "      <td>8.880818</td>\n",
       "      <td>4.537626</td>\n",
       "      <td>4.648655</td>\n",
       "    </tr>\n",
       "    <tr>\n",
       "      <th>4</th>\n",
       "      <td>GSM1823706_252800416894_S01_GE1_107_Sep09_1_3</td>\n",
       "      <td>normal</td>\n",
       "      <td>8.806154</td>\n",
       "      <td>7.555348</td>\n",
       "      <td>6.230969</td>\n",
       "      <td>11.635247</td>\n",
       "      <td>8.911383</td>\n",
       "      <td>4.518054</td>\n",
       "      <td>6.520691</td>\n",
       "      <td>4.540453</td>\n",
       "      <td>...</td>\n",
       "      <td>6.211581</td>\n",
       "      <td>5.538635</td>\n",
       "      <td>4.613828</td>\n",
       "      <td>12.014365</td>\n",
       "      <td>4.979883</td>\n",
       "      <td>6.414621</td>\n",
       "      <td>10.909805</td>\n",
       "      <td>9.526500</td>\n",
       "      <td>4.670490</td>\n",
       "      <td>4.613828</td>\n",
       "    </tr>\n",
       "  </tbody>\n",
       "</table>\n",
       "<p>5 rows × 35983 columns</p>\n",
       "</div>"
      ],
      "text/plain": [
       "                                         samples    type  NM_144987  \\\n",
       "0  GSM1823702_252800417016_S01_GE1_107_Sep09_1_2  normal   8.693318   \n",
       "1  GSM1823703_252800417016_S01_GE1_107_Sep09_2_1  normal   9.375980   \n",
       "2  GSM1823704_252800416877_S01_GE1_107_Sep09_2_3  normal   8.943442   \n",
       "3  GSM1823705_252800416894_S01_GE1_107_Sep09_1_1  normal   9.020798   \n",
       "4  GSM1823706_252800416894_S01_GE1_107_Sep09_1_3  normal   8.806154   \n",
       "\n",
       "   NM_013290  ENST00000322831  NM_001625  lincRNA:chr7:226042-232442_R  \\\n",
       "0   7.718016         6.044438  10.747077                      9.133777   \n",
       "1   7.072232         6.976741  10.429671                      9.526500   \n",
       "2   7.964573         6.269055  10.825025                      9.396855   \n",
       "3   7.824639         6.165165  11.646788                      8.776462   \n",
       "4   7.555348         6.230969  11.635247                      8.911383   \n",
       "\n",
       "   NM_032391  ENST00000238571  XR_108906  ...  \\\n",
       "0   4.735581         5.634732   4.670231  ...   \n",
       "1   5.221089         5.425187   4.860931  ...   \n",
       "2   5.258506         5.824921   4.964604  ...   \n",
       "3   4.648655         6.676692   4.770186  ...   \n",
       "4   4.518054         6.520691   4.540453  ...   \n",
       "\n",
       "   lincRNA:chr4:77860976-77869926_F  NM_152343  NM_001005327  NM_001039355  \\\n",
       "0                          7.570363   6.368684      4.784042     10.747723   \n",
       "1                          7.903335   5.713115      4.421074     11.299200   \n",
       "2                          7.705765   6.595364      4.410870     10.576807   \n",
       "3                          6.633058   5.786781      4.572984     11.175090   \n",
       "4                          6.211581   5.538635      4.613828     12.014365   \n",
       "\n",
       "   lincRNA:chr21:44456656-44468556_R  lincRNA:chr9:4869500-4896050_F  \\\n",
       "0                           5.090500                        5.994149   \n",
       "1                           4.447052                        4.421074   \n",
       "2                           5.003699                        6.529257   \n",
       "3                           4.990888                        6.669871   \n",
       "4                           4.979883                        6.414621   \n",
       "\n",
       "   NM_016053  NM_001080425  ENST00000555638  ENST00000508993  \n",
       "0  10.649336      8.969439         4.985693         5.090500  \n",
       "1  10.746854      8.174489         4.464177         4.536891  \n",
       "2  10.430034      8.473468         4.668447         5.084127  \n",
       "3  11.110395      8.880818         4.537626         4.648655  \n",
       "4  10.909805      9.526500         4.670490         4.613828  \n",
       "\n",
       "[5 rows x 35983 columns]"
      ]
     },
     "execution_count": 89,
     "metadata": {},
     "output_type": "execute_result"
    }
   ],
   "source": [
    "database = pd.read_csv('Breast_GSE70947.csv')\n",
    "database.head()"
   ]
  },
  {
   "cell_type": "code",
   "execution_count": 90,
   "metadata": {},
   "outputs": [],
   "source": [
    "#database.describe()"
   ]
  },
  {
   "cell_type": "code",
   "execution_count": 91,
   "metadata": {},
   "outputs": [
    {
     "data": {
      "text/plain": [
       "(289, 35983)"
      ]
     },
     "execution_count": 91,
     "metadata": {},
     "output_type": "execute_result"
    }
   ],
   "source": [
    "database.shape"
   ]
  },
  {
   "cell_type": "code",
   "execution_count": 92,
   "metadata": {},
   "outputs": [],
   "source": [
    "# split the data into train and test\n",
    "database = database.drop('samples', axis=1)\n",
    "X = database.drop('type', axis=1)\n",
    "y = database['type']\n",
    "X_train, X_test, y_train, y_test = train_test_split(X, y, test_size=0.3, random_state=42)"
   ]
  },
  {
   "cell_type": "markdown",
   "metadata": {},
   "source": [
    "# KNN - k-nearest neighbors"
   ]
  },
  {
   "cell_type": "code",
   "execution_count": 93,
   "metadata": {},
   "outputs": [],
   "source": [
    "from sklearn.neighbors import KNeighborsClassifier"
   ]
  },
  {
   "cell_type": "code",
   "execution_count": 94,
   "metadata": {},
   "outputs": [
    {
     "data": {
      "text/html": [
       "<style>#sk-container-id-13 {color: black;}#sk-container-id-13 pre{padding: 0;}#sk-container-id-13 div.sk-toggleable {background-color: white;}#sk-container-id-13 label.sk-toggleable__label {cursor: pointer;display: block;width: 100%;margin-bottom: 0;padding: 0.3em;box-sizing: border-box;text-align: center;}#sk-container-id-13 label.sk-toggleable__label-arrow:before {content: \"▸\";float: left;margin-right: 0.25em;color: #696969;}#sk-container-id-13 label.sk-toggleable__label-arrow:hover:before {color: black;}#sk-container-id-13 div.sk-estimator:hover label.sk-toggleable__label-arrow:before {color: black;}#sk-container-id-13 div.sk-toggleable__content {max-height: 0;max-width: 0;overflow: hidden;text-align: left;background-color: #f0f8ff;}#sk-container-id-13 div.sk-toggleable__content pre {margin: 0.2em;color: black;border-radius: 0.25em;background-color: #f0f8ff;}#sk-container-id-13 input.sk-toggleable__control:checked~div.sk-toggleable__content {max-height: 200px;max-width: 100%;overflow: auto;}#sk-container-id-13 input.sk-toggleable__control:checked~label.sk-toggleable__label-arrow:before {content: \"▾\";}#sk-container-id-13 div.sk-estimator input.sk-toggleable__control:checked~label.sk-toggleable__label {background-color: #d4ebff;}#sk-container-id-13 div.sk-label input.sk-toggleable__control:checked~label.sk-toggleable__label {background-color: #d4ebff;}#sk-container-id-13 input.sk-hidden--visually {border: 0;clip: rect(1px 1px 1px 1px);clip: rect(1px, 1px, 1px, 1px);height: 1px;margin: -1px;overflow: hidden;padding: 0;position: absolute;width: 1px;}#sk-container-id-13 div.sk-estimator {font-family: monospace;background-color: #f0f8ff;border: 1px dotted black;border-radius: 0.25em;box-sizing: border-box;margin-bottom: 0.5em;}#sk-container-id-13 div.sk-estimator:hover {background-color: #d4ebff;}#sk-container-id-13 div.sk-parallel-item::after {content: \"\";width: 100%;border-bottom: 1px solid gray;flex-grow: 1;}#sk-container-id-13 div.sk-label:hover label.sk-toggleable__label {background-color: #d4ebff;}#sk-container-id-13 div.sk-serial::before {content: \"\";position: absolute;border-left: 1px solid gray;box-sizing: border-box;top: 0;bottom: 0;left: 50%;z-index: 0;}#sk-container-id-13 div.sk-serial {display: flex;flex-direction: column;align-items: center;background-color: white;padding-right: 0.2em;padding-left: 0.2em;position: relative;}#sk-container-id-13 div.sk-item {position: relative;z-index: 1;}#sk-container-id-13 div.sk-parallel {display: flex;align-items: stretch;justify-content: center;background-color: white;position: relative;}#sk-container-id-13 div.sk-item::before, #sk-container-id-13 div.sk-parallel-item::before {content: \"\";position: absolute;border-left: 1px solid gray;box-sizing: border-box;top: 0;bottom: 0;left: 50%;z-index: -1;}#sk-container-id-13 div.sk-parallel-item {display: flex;flex-direction: column;z-index: 1;position: relative;background-color: white;}#sk-container-id-13 div.sk-parallel-item:first-child::after {align-self: flex-end;width: 50%;}#sk-container-id-13 div.sk-parallel-item:last-child::after {align-self: flex-start;width: 50%;}#sk-container-id-13 div.sk-parallel-item:only-child::after {width: 0;}#sk-container-id-13 div.sk-dashed-wrapped {border: 1px dashed gray;margin: 0 0.4em 0.5em 0.4em;box-sizing: border-box;padding-bottom: 0.4em;background-color: white;}#sk-container-id-13 div.sk-label label {font-family: monospace;font-weight: bold;display: inline-block;line-height: 1.2em;}#sk-container-id-13 div.sk-label-container {text-align: center;}#sk-container-id-13 div.sk-container {/* jupyter's `normalize.less` sets `[hidden] { display: none; }` but bootstrap.min.css set `[hidden] { display: none !important; }` so we also need the `!important` here to be able to override the default hidden behavior on the sphinx rendered scikit-learn.org. See: https://github.com/scikit-learn/scikit-learn/issues/21755 */display: inline-block !important;position: relative;}#sk-container-id-13 div.sk-text-repr-fallback {display: none;}</style><div id=\"sk-container-id-13\" class=\"sk-top-container\"><div class=\"sk-text-repr-fallback\"><pre>KNeighborsClassifier(n_neighbors=15)</pre><b>In a Jupyter environment, please rerun this cell to show the HTML representation or trust the notebook. <br />On GitHub, the HTML representation is unable to render, please try loading this page with nbviewer.org.</b></div><div class=\"sk-container\" hidden><div class=\"sk-item\"><div class=\"sk-estimator sk-toggleable\"><input class=\"sk-toggleable__control sk-hidden--visually\" id=\"sk-estimator-id-13\" type=\"checkbox\" checked><label for=\"sk-estimator-id-13\" class=\"sk-toggleable__label sk-toggleable__label-arrow\">KNeighborsClassifier</label><div class=\"sk-toggleable__content\"><pre>KNeighborsClassifier(n_neighbors=15)</pre></div></div></div></div></div>"
      ],
      "text/plain": [
       "KNeighborsClassifier(n_neighbors=15)"
      ]
     },
     "execution_count": 94,
     "metadata": {},
     "output_type": "execute_result"
    }
   ],
   "source": [
    "knn_classifier = KNeighborsClassifier(n_neighbors=15, metric='minkowski', p=2)\n",
    "knn_classifier.fit(X_train, y_train)"
   ]
  },
  {
   "cell_type": "code",
   "execution_count": 95,
   "metadata": {},
   "outputs": [
    {
     "data": {
      "text/plain": [
       "array(['normal', 'breast_adenocarcinoma', 'breast_adenocarcinoma',\n",
       "       'normal', 'breast_adenocarcinoma', 'normal', 'normal',\n",
       "       'breast_adenocarcinoma', 'normal', 'normal',\n",
       "       'breast_adenocarcinoma', 'normal', 'normal',\n",
       "       'breast_adenocarcinoma', 'normal', 'normal', 'normal',\n",
       "       'breast_adenocarcinoma', 'breast_adenocarcinoma', 'normal',\n",
       "       'normal', 'normal', 'normal', 'breast_adenocarcinoma', 'normal',\n",
       "       'breast_adenocarcinoma', 'normal', 'normal', 'normal', 'normal',\n",
       "       'normal', 'normal', 'normal', 'normal', 'breast_adenocarcinoma',\n",
       "       'breast_adenocarcinoma', 'breast_adenocarcinoma', 'normal',\n",
       "       'normal', 'normal', 'normal', 'normal', 'breast_adenocarcinoma',\n",
       "       'normal', 'normal', 'normal', 'normal', 'normal', 'normal',\n",
       "       'normal', 'breast_adenocarcinoma', 'breast_adenocarcinoma',\n",
       "       'normal', 'breast_adenocarcinoma', 'breast_adenocarcinoma',\n",
       "       'normal', 'breast_adenocarcinoma', 'normal', 'normal', 'normal',\n",
       "       'normal', 'normal', 'normal', 'breast_adenocarcinoma',\n",
       "       'breast_adenocarcinoma', 'normal', 'normal',\n",
       "       'breast_adenocarcinoma', 'normal', 'normal', 'normal', 'normal',\n",
       "       'normal', 'normal', 'normal', 'normal', 'breast_adenocarcinoma',\n",
       "       'breast_adenocarcinoma', 'breast_adenocarcinoma', 'normal',\n",
       "       'normal', 'normal', 'breast_adenocarcinoma', 'normal',\n",
       "       'breast_adenocarcinoma', 'normal', 'normal'], dtype=object)"
      ]
     },
     "execution_count": 95,
     "metadata": {},
     "output_type": "execute_result"
    }
   ],
   "source": [
    "predictions = knn_classifier.predict(X_test)\n",
    "predictions"
   ]
  },
  {
   "cell_type": "code",
   "execution_count": 96,
   "metadata": {},
   "outputs": [
    {
     "data": {
      "text/plain": [
       "45                    normal\n",
       "157    breast_adenocarcinoma\n",
       "274    breast_adenocarcinoma\n",
       "42                    normal\n",
       "181    breast_adenocarcinoma\n",
       "               ...          \n",
       "210    breast_adenocarcinoma\n",
       "109                   normal\n",
       "204    breast_adenocarcinoma\n",
       "90                    normal\n",
       "18                    normal\n",
       "Name: type, Length: 87, dtype: object"
      ]
     },
     "execution_count": 96,
     "metadata": {},
     "output_type": "execute_result"
    }
   ],
   "source": [
    "y_test"
   ]
  },
  {
   "cell_type": "code",
   "execution_count": 97,
   "metadata": {},
   "outputs": [],
   "source": [
    "from sklearn.metrics import accuracy_score, classification_report"
   ]
  },
  {
   "cell_type": "code",
   "execution_count": 98,
   "metadata": {},
   "outputs": [
    {
     "data": {
      "text/plain": [
       "0.8390804597701149"
      ]
     },
     "execution_count": 98,
     "metadata": {},
     "output_type": "execute_result"
    }
   ],
   "source": [
    "accuracy_score(y_test, predictions)"
   ]
  },
  {
   "cell_type": "code",
   "execution_count": 99,
   "metadata": {},
   "outputs": [
    {
     "data": {
      "text/plain": [
       "0.8390804597701149"
      ]
     },
     "execution_count": 99,
     "metadata": {},
     "output_type": "execute_result"
    },
    {
     "data": {
      "image/png": "[encoded data removed]",
      "text/plain": [
       "<Figure size 800x550 with 1 Axes>"
      ]
     },
     "metadata": {},
     "output_type": "display_data"
    }
   ],
   "source": [
    "from yellowbrick.classifier import ConfusionMatrix\n",
    "cm = ConfusionMatrix(knn_classifier)\n",
    "cm.fit(X_train, y_train) \n",
    "cm.score(X_test, y_test)"
   ]
  },
  {
   "cell_type": "code",
   "execution_count": 100,
   "metadata": {},
   "outputs": [
    {
     "name": "stdout",
     "output_type": "stream",
     "text": [
      "                       precision    recall  f1-score   support\n",
      "\n",
      "breast_adenocarcinoma       1.00      0.66      0.79        41\n",
      "               normal       0.77      1.00      0.87        46\n",
      "\n",
      "             accuracy                           0.84        87\n",
      "            macro avg       0.88      0.83      0.83        87\n",
      "         weighted avg       0.88      0.84      0.83        87\n",
      "\n"
     ]
    }
   ],
   "source": [
    "print(classification_report(y_test, predictions))"
   ]
  },
  {
   "cell_type": "code",
   "execution_count": null,
   "metadata": {},
   "outputs": [],
   "source": []
  }
 ],
 "metadata": {
  "kernelspec": {
   "display_name": "Python 3",
   "language": "python",
   "name": "python3"
  },
  "language_info": {
   "codemirror_mode": {
    "name": "ipython",
    "version": 3
   },
   "file_extension": ".py",
   "mimetype": "text/x-python",
   "name": "python",
   "nbconvert_exporter": "python",
   "pygments_lexer": "ipython3",
   "version": "3.10.12"
  }
 },
 "nbformat": 4,
 "nbformat_minor": 2
}
