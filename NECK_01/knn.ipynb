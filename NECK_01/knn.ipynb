{
 "cells": [
  {
   "cell_type": "code",
   "execution_count": 1,
   "metadata": {},
   "outputs": [],
   "source": [
    "import pandas as pd\n",
    "import numpy as np\n",
    "import matplotlib.pyplot as plt\n",
    "import seaborn as sns\n",
    "from sklearn.model_selection import train_test_split\n",
    "from sklearn.preprocessing import StandardScaler"
   ]
  },
  {
   "cell_type": "code",
   "execution_count": 2,
   "metadata": {},
   "outputs": [
    {
     "data": {
      "text/html": [
       "<div>\n",
       "<style scoped>\n",
       "    .dataframe tbody tr th:only-of-type {\n",
       "        vertical-align: middle;\n",
       "    }\n",
       "\n",
       "    .dataframe tbody tr th {\n",
       "        vertical-align: top;\n",
       "    }\n",
       "\n",
       "    .dataframe thead th {\n",
       "        text-align: right;\n",
       "    }\n",
       "</style>\n",
       "<table border=\"1\" class=\"dataframe\">\n",
       "  <thead>\n",
       "    <tr style=\"text-align: right;\">\n",
       "      <th></th>\n",
       "      <th>samples</th>\n",
       "      <th>type</th>\n",
       "      <th>1007_s_at</th>\n",
       "      <th>1053_at</th>\n",
       "      <th>117_at</th>\n",
       "      <th>121_at</th>\n",
       "      <th>1255_g_at</th>\n",
       "      <th>1294_at</th>\n",
       "      <th>1316_at</th>\n",
       "      <th>1320_at</th>\n",
       "      <th>...</th>\n",
       "      <th>AFFX-r2-Ec-bioD-3_at</th>\n",
       "      <th>AFFX-r2-Ec-bioD-5_at</th>\n",
       "      <th>AFFX-r2-P1-cre-3_at</th>\n",
       "      <th>AFFX-r2-P1-cre-5_at</th>\n",
       "      <th>AFFX-ThrX-3_at</th>\n",
       "      <th>AFFX-ThrX-5_at</th>\n",
       "      <th>AFFX-ThrX-M_at</th>\n",
       "      <th>AFFX-TrpnX-3_at</th>\n",
       "      <th>AFFX-TrpnX-5_at</th>\n",
       "      <th>AFFX-TrpnX-M_at</th>\n",
       "    </tr>\n",
       "  </thead>\n",
       "  <tbody>\n",
       "    <tr>\n",
       "      <th>0</th>\n",
       "      <td>79</td>\n",
       "      <td>oral_cavity_cancer</td>\n",
       "      <td>12.259970</td>\n",
       "      <td>7.822784</td>\n",
       "      <td>7.076852</td>\n",
       "      <td>9.932529</td>\n",
       "      <td>6.079321</td>\n",
       "      <td>8.884615</td>\n",
       "      <td>7.078590</td>\n",
       "      <td>6.375017</td>\n",
       "      <td>...</td>\n",
       "      <td>14.097388</td>\n",
       "      <td>13.808292</td>\n",
       "      <td>14.879530</td>\n",
       "      <td>14.770789</td>\n",
       "      <td>6.277723</td>\n",
       "      <td>5.492216</td>\n",
       "      <td>4.872947</td>\n",
       "      <td>4.504117</td>\n",
       "      <td>5.058785</td>\n",
       "      <td>4.959956</td>\n",
       "    </tr>\n",
       "    <tr>\n",
       "      <th>1</th>\n",
       "      <td>80</td>\n",
       "      <td>oral_cavity_cancer</td>\n",
       "      <td>12.089249</td>\n",
       "      <td>7.754616</td>\n",
       "      <td>7.640473</td>\n",
       "      <td>10.528756</td>\n",
       "      <td>5.600609</td>\n",
       "      <td>9.038594</td>\n",
       "      <td>7.191701</td>\n",
       "      <td>6.505015</td>\n",
       "      <td>...</td>\n",
       "      <td>14.150997</td>\n",
       "      <td>13.975202</td>\n",
       "      <td>14.868461</td>\n",
       "      <td>14.710410</td>\n",
       "      <td>6.056832</td>\n",
       "      <td>5.809288</td>\n",
       "      <td>4.551575</td>\n",
       "      <td>4.536802</td>\n",
       "      <td>5.166772</td>\n",
       "      <td>5.218432</td>\n",
       "    </tr>\n",
       "    <tr>\n",
       "      <th>2</th>\n",
       "      <td>81</td>\n",
       "      <td>oral_cavity_cancer</td>\n",
       "      <td>12.253493</td>\n",
       "      <td>8.331198</td>\n",
       "      <td>6.980443</td>\n",
       "      <td>9.786068</td>\n",
       "      <td>5.357674</td>\n",
       "      <td>7.671959</td>\n",
       "      <td>6.878982</td>\n",
       "      <td>6.686758</td>\n",
       "      <td>...</td>\n",
       "      <td>13.171790</td>\n",
       "      <td>12.663488</td>\n",
       "      <td>14.375815</td>\n",
       "      <td>14.229668</td>\n",
       "      <td>5.902731</td>\n",
       "      <td>5.552099</td>\n",
       "      <td>4.660518</td>\n",
       "      <td>4.428401</td>\n",
       "      <td>4.990019</td>\n",
       "      <td>4.845970</td>\n",
       "    </tr>\n",
       "    <tr>\n",
       "      <th>3</th>\n",
       "      <td>82</td>\n",
       "      <td>oral_cavity_cancer</td>\n",
       "      <td>12.784522</td>\n",
       "      <td>8.175401</td>\n",
       "      <td>7.303593</td>\n",
       "      <td>9.868314</td>\n",
       "      <td>5.524533</td>\n",
       "      <td>7.802572</td>\n",
       "      <td>6.849571</td>\n",
       "      <td>6.628684</td>\n",
       "      <td>...</td>\n",
       "      <td>13.348310</td>\n",
       "      <td>12.854595</td>\n",
       "      <td>14.562390</td>\n",
       "      <td>14.354983</td>\n",
       "      <td>5.964846</td>\n",
       "      <td>5.588120</td>\n",
       "      <td>4.667251</td>\n",
       "      <td>4.555028</td>\n",
       "      <td>5.090857</td>\n",
       "      <td>4.773182</td>\n",
       "    </tr>\n",
       "    <tr>\n",
       "      <th>4</th>\n",
       "      <td>83</td>\n",
       "      <td>oral_cavity_cancer</td>\n",
       "      <td>12.594939</td>\n",
       "      <td>7.766172</td>\n",
       "      <td>8.706035</td>\n",
       "      <td>9.887563</td>\n",
       "      <td>5.529864</td>\n",
       "      <td>8.735436</td>\n",
       "      <td>6.943179</td>\n",
       "      <td>6.550663</td>\n",
       "      <td>...</td>\n",
       "      <td>13.820435</td>\n",
       "      <td>13.565086</td>\n",
       "      <td>14.817541</td>\n",
       "      <td>14.686170</td>\n",
       "      <td>5.594160</td>\n",
       "      <td>5.640937</td>\n",
       "      <td>4.492807</td>\n",
       "      <td>4.503870</td>\n",
       "      <td>4.920595</td>\n",
       "      <td>4.946553</td>\n",
       "    </tr>\n",
       "  </tbody>\n",
       "</table>\n",
       "<p>5 rows × 54677 columns</p>\n",
       "</div>"
      ],
      "text/plain": [
       "   samples                type  1007_s_at   1053_at    117_at     121_at  \\\n",
       "0       79  oral_cavity_cancer  12.259970  7.822784  7.076852   9.932529   \n",
       "1       80  oral_cavity_cancer  12.089249  7.754616  7.640473  10.528756   \n",
       "2       81  oral_cavity_cancer  12.253493  8.331198  6.980443   9.786068   \n",
       "3       82  oral_cavity_cancer  12.784522  8.175401  7.303593   9.868314   \n",
       "4       83  oral_cavity_cancer  12.594939  7.766172  8.706035   9.887563   \n",
       "\n",
       "   1255_g_at   1294_at   1316_at   1320_at  ...  AFFX-r2-Ec-bioD-3_at  \\\n",
       "0   6.079321  8.884615  7.078590  6.375017  ...             14.097388   \n",
       "1   5.600609  9.038594  7.191701  6.505015  ...             14.150997   \n",
       "2   5.357674  7.671959  6.878982  6.686758  ...             13.171790   \n",
       "3   5.524533  7.802572  6.849571  6.628684  ...             13.348310   \n",
       "4   5.529864  8.735436  6.943179  6.550663  ...             13.820435   \n",
       "\n",
       "   AFFX-r2-Ec-bioD-5_at  AFFX-r2-P1-cre-3_at  AFFX-r2-P1-cre-5_at  \\\n",
       "0             13.808292            14.879530            14.770789   \n",
       "1             13.975202            14.868461            14.710410   \n",
       "2             12.663488            14.375815            14.229668   \n",
       "3             12.854595            14.562390            14.354983   \n",
       "4             13.565086            14.817541            14.686170   \n",
       "\n",
       "   AFFX-ThrX-3_at  AFFX-ThrX-5_at  AFFX-ThrX-M_at  AFFX-TrpnX-3_at  \\\n",
       "0        6.277723        5.492216        4.872947         4.504117   \n",
       "1        6.056832        5.809288        4.551575         4.536802   \n",
       "2        5.902731        5.552099        4.660518         4.428401   \n",
       "3        5.964846        5.588120        4.667251         4.555028   \n",
       "4        5.594160        5.640937        4.492807         4.503870   \n",
       "\n",
       "   AFFX-TrpnX-5_at  AFFX-TrpnX-M_at  \n",
       "0         5.058785         4.959956  \n",
       "1         5.166772         5.218432  \n",
       "2         4.990019         4.845970  \n",
       "3         5.090857         4.773182  \n",
       "4         4.920595         4.946553  \n",
       "\n",
       "[5 rows x 54677 columns]"
      ]
     },
     "execution_count": 2,
     "metadata": {},
     "output_type": "execute_result"
    }
   ],
   "source": [
    "database = pd.read_csv('database.csv')\n",
    "database.head()"
   ]
  },
  {
   "cell_type": "code",
   "execution_count": 3,
   "metadata": {},
   "outputs": [
    {
     "data": {
      "text/plain": [
       "(103, 54677)"
      ]
     },
     "execution_count": 3,
     "metadata": {},
     "output_type": "execute_result"
    }
   ],
   "source": [
    "database.shape"
   ]
  },
  {
   "cell_type": "code",
   "execution_count": 4,
   "metadata": {},
   "outputs": [],
   "source": [
    "# split the data into train and test\n",
    "database = database.drop('samples', axis=1)\n",
    "X = database.drop('type', axis=1)\n",
    "y = database['type']\n",
    "X_train, X_test, y_train, y_test = train_test_split(X, y, test_size=0.30, random_state=100)"
   ]
  },
  {
   "cell_type": "markdown",
   "metadata": {},
   "source": [
    "# KNN - k-nearest neighbors"
   ]
  },
  {
   "cell_type": "code",
   "execution_count": 5,
   "metadata": {},
   "outputs": [],
   "source": [
    "from sklearn.neighbors import KNeighborsClassifier"
   ]
  },
  {
   "cell_type": "code",
   "execution_count": 6,
   "metadata": {},
   "outputs": [
    {
     "data": {
      "text/html": [
       "<style>#sk-container-id-1 {color: black;}#sk-container-id-1 pre{padding: 0;}#sk-container-id-1 div.sk-toggleable {background-color: white;}#sk-container-id-1 label.sk-toggleable__label {cursor: pointer;display: block;width: 100%;margin-bottom: 0;padding: 0.3em;box-sizing: border-box;text-align: center;}#sk-container-id-1 label.sk-toggleable__label-arrow:before {content: \"▸\";float: left;margin-right: 0.25em;color: #696969;}#sk-container-id-1 label.sk-toggleable__label-arrow:hover:before {color: black;}#sk-container-id-1 div.sk-estimator:hover label.sk-toggleable__label-arrow:before {color: black;}#sk-container-id-1 div.sk-toggleable__content {max-height: 0;max-width: 0;overflow: hidden;text-align: left;background-color: #f0f8ff;}#sk-container-id-1 div.sk-toggleable__content pre {margin: 0.2em;color: black;border-radius: 0.25em;background-color: #f0f8ff;}#sk-container-id-1 input.sk-toggleable__control:checked~div.sk-toggleable__content {max-height: 200px;max-width: 100%;overflow: auto;}#sk-container-id-1 input.sk-toggleable__control:checked~label.sk-toggleable__label-arrow:before {content: \"▾\";}#sk-container-id-1 div.sk-estimator input.sk-toggleable__control:checked~label.sk-toggleable__label {background-color: #d4ebff;}#sk-container-id-1 div.sk-label input.sk-toggleable__control:checked~label.sk-toggleable__label {background-color: #d4ebff;}#sk-container-id-1 input.sk-hidden--visually {border: 0;clip: rect(1px 1px 1px 1px);clip: rect(1px, 1px, 1px, 1px);height: 1px;margin: -1px;overflow: hidden;padding: 0;position: absolute;width: 1px;}#sk-container-id-1 div.sk-estimator {font-family: monospace;background-color: #f0f8ff;border: 1px dotted black;border-radius: 0.25em;box-sizing: border-box;margin-bottom: 0.5em;}#sk-container-id-1 div.sk-estimator:hover {background-color: #d4ebff;}#sk-container-id-1 div.sk-parallel-item::after {content: \"\";width: 100%;border-bottom: 1px solid gray;flex-grow: 1;}#sk-container-id-1 div.sk-label:hover label.sk-toggleable__label {background-color: #d4ebff;}#sk-container-id-1 div.sk-serial::before {content: \"\";position: absolute;border-left: 1px solid gray;box-sizing: border-box;top: 0;bottom: 0;left: 50%;z-index: 0;}#sk-container-id-1 div.sk-serial {display: flex;flex-direction: column;align-items: center;background-color: white;padding-right: 0.2em;padding-left: 0.2em;position: relative;}#sk-container-id-1 div.sk-item {position: relative;z-index: 1;}#sk-container-id-1 div.sk-parallel {display: flex;align-items: stretch;justify-content: center;background-color: white;position: relative;}#sk-container-id-1 div.sk-item::before, #sk-container-id-1 div.sk-parallel-item::before {content: \"\";position: absolute;border-left: 1px solid gray;box-sizing: border-box;top: 0;bottom: 0;left: 50%;z-index: -1;}#sk-container-id-1 div.sk-parallel-item {display: flex;flex-direction: column;z-index: 1;position: relative;background-color: white;}#sk-container-id-1 div.sk-parallel-item:first-child::after {align-self: flex-end;width: 50%;}#sk-container-id-1 div.sk-parallel-item:last-child::after {align-self: flex-start;width: 50%;}#sk-container-id-1 div.sk-parallel-item:only-child::after {width: 0;}#sk-container-id-1 div.sk-dashed-wrapped {border: 1px dashed gray;margin: 0 0.4em 0.5em 0.4em;box-sizing: border-box;padding-bottom: 0.4em;background-color: white;}#sk-container-id-1 div.sk-label label {font-family: monospace;font-weight: bold;display: inline-block;line-height: 1.2em;}#sk-container-id-1 div.sk-label-container {text-align: center;}#sk-container-id-1 div.sk-container {/* jupyter's `normalize.less` sets `[hidden] { display: none; }` but bootstrap.min.css set `[hidden] { display: none !important; }` so we also need the `!important` here to be able to override the default hidden behavior on the sphinx rendered scikit-learn.org. See: https://github.com/scikit-learn/scikit-learn/issues/21755 */display: inline-block !important;position: relative;}#sk-container-id-1 div.sk-text-repr-fallback {display: none;}</style><div id=\"sk-container-id-1\" class=\"sk-top-container\"><div class=\"sk-text-repr-fallback\"><pre>KNeighborsClassifier(n_neighbors=1)</pre><b>In a Jupyter environment, please rerun this cell to show the HTML representation or trust the notebook. <br />On GitHub, the HTML representation is unable to render, please try loading this page with nbviewer.org.</b></div><div class=\"sk-container\" hidden><div class=\"sk-item\"><div class=\"sk-estimator sk-toggleable\"><input class=\"sk-toggleable__control sk-hidden--visually\" id=\"sk-estimator-id-1\" type=\"checkbox\" checked><label for=\"sk-estimator-id-1\" class=\"sk-toggleable__label sk-toggleable__label-arrow\">KNeighborsClassifier</label><div class=\"sk-toggleable__content\"><pre>KNeighborsClassifier(n_neighbors=1)</pre></div></div></div></div></div>"
      ],
      "text/plain": [
       "KNeighborsClassifier(n_neighbors=1)"
      ]
     },
     "execution_count": 6,
     "metadata": {},
     "output_type": "execute_result"
    }
   ],
   "source": [
    "knn_classifier = KNeighborsClassifier(n_neighbors=1, metric='minkowski', p=2)\n",
    "knn_classifier.fit(X_train, y_train)"
   ]
  },
  {
   "cell_type": "code",
   "execution_count": 7,
   "metadata": {},
   "outputs": [
    {
     "data": {
      "text/plain": [
       "array(['oral_cavity_cancer', 'oral_cavity_cancer', 'normal', 'normal',\n",
       "       'oral_cavity_cancer', 'normal', 'oral_cavity_cancer', 'normal',\n",
       "       'normal', 'oral_cavity_cancer', 'oral_cavity_cancer',\n",
       "       'oral_cavity_cancer', 'normal', 'normal', 'oral_cavity_cancer',\n",
       "       'oral_cavity_cancer', 'oral_cavity_cancer', 'normal',\n",
       "       'oral_cavity_cancer', 'oral_cavity_cancer', 'oral_cavity_cancer',\n",
       "       'oral_cavity_cancer', 'normal', 'oral_cavity_cancer', 'normal',\n",
       "       'oral_cavity_cancer', 'oral_cavity_cancer', 'oral_cavity_cancer',\n",
       "       'normal', 'normal', 'oral_cavity_cancer'], dtype=object)"
      ]
     },
     "execution_count": 7,
     "metadata": {},
     "output_type": "execute_result"
    }
   ],
   "source": [
    "predictions = knn_classifier.predict(X_test)\n",
    "predictions"
   ]
  },
  {
   "cell_type": "code",
   "execution_count": 8,
   "metadata": {},
   "outputs": [
    {
     "data": {
      "text/plain": [
       "21    oral_cavity_cancer\n",
       "57    oral_cavity_cancer\n",
       "89                normal\n",
       "95                normal\n",
       "36    oral_cavity_cancer\n",
       "62    oral_cavity_cancer\n",
       "25    oral_cavity_cancer\n",
       "50    oral_cavity_cancer\n",
       "98                normal\n",
       "43    oral_cavity_cancer\n",
       "35    oral_cavity_cancer\n",
       "54    oral_cavity_cancer\n",
       "28    oral_cavity_cancer\n",
       "75                normal\n",
       "37    oral_cavity_cancer\n",
       "26    oral_cavity_cancer\n",
       "32    oral_cavity_cancer\n",
       "74                normal\n",
       "5     oral_cavity_cancer\n",
       "68    oral_cavity_cancer\n",
       "11    oral_cavity_cancer\n",
       "64    oral_cavity_cancer\n",
       "85                normal\n",
       "84                normal\n",
       "80                normal\n",
       "29    oral_cavity_cancer\n",
       "22    oral_cavity_cancer\n",
       "23    oral_cavity_cancer\n",
       "99                normal\n",
       "88                normal\n",
       "20    oral_cavity_cancer\n",
       "Name: type, dtype: object"
      ]
     },
     "execution_count": 8,
     "metadata": {},
     "output_type": "execute_result"
    }
   ],
   "source": [
    "y_test"
   ]
  },
  {
   "cell_type": "code",
   "execution_count": 9,
   "metadata": {},
   "outputs": [],
   "source": [
    "from sklearn.metrics import accuracy_score, classification_report"
   ]
  },
  {
   "cell_type": "code",
   "execution_count": 10,
   "metadata": {},
   "outputs": [
    {
     "data": {
      "text/plain": [
       "0.8709677419354839"
      ]
     },
     "execution_count": 10,
     "metadata": {},
     "output_type": "execute_result"
    }
   ],
   "source": [
    "accuracy_score(y_test, predictions)"
   ]
  },
  {
   "cell_type": "code",
   "execution_count": 11,
   "metadata": {},
   "outputs": [
    {
     "name": "stderr",
     "output_type": "stream",
     "text": [
      "/home/jonathan/.local/lib/python3.10/site-packages/sklearn/base.py:465: UserWarning: X does not have valid feature names, but KNeighborsClassifier was fitted with feature names\n",
      "  warnings.warn(\n"
     ]
    },
    {
     "data": {
      "text/plain": [
       "0.8709677419354839"
      ]
     },
     "execution_count": 11,
     "metadata": {},
     "output_type": "execute_result"
    },
    {
     "data": {
      "image/png": "[encoded data removed]",
      "text/plain": [
       "<Figure size 800x550 with 1 Axes>"
      ]
     },
     "metadata": {},
     "output_type": "display_data"
    }
   ],
   "source": [
    "from yellowbrick.classifier import ConfusionMatrix\n",
    "cm = ConfusionMatrix(knn_classifier)\n",
    "cm.fit(X_train, y_train) \n",
    "cm.score(X_test, y_test)"
   ]
  },
  {
   "cell_type": "code",
   "execution_count": 12,
   "metadata": {},
   "outputs": [
    {
     "name": "stdout",
     "output_type": "stream",
     "text": [
      "                    precision    recall  f1-score   support\n",
      "\n",
      "            normal       0.75      0.90      0.82        10\n",
      "oral_cavity_cancer       0.95      0.86      0.90        21\n",
      "\n",
      "          accuracy                           0.87        31\n",
      "         macro avg       0.85      0.88      0.86        31\n",
      "      weighted avg       0.88      0.87      0.87        31\n",
      "\n"
     ]
    }
   ],
   "source": [
    "print(classification_report(y_test, predictions))"
   ]
  },
  {
   "cell_type": "code",
   "execution_count": null,
   "metadata": {},
   "outputs": [],
   "source": []
  }
 ],
 "metadata": {
  "kernelspec": {
   "display_name": "Python 3",
   "language": "python",
   "name": "python3"
  },
  "language_info": {
   "codemirror_mode": {
    "name": "ipython",
    "version": 3
   },
   "file_extension": ".py",
   "mimetype": "text/x-python",
   "name": "python",
   "nbconvert_exporter": "python",
   "pygments_lexer": "ipython3",
   "version": "3.10.12"
  }
 },
 "nbformat": 4,
 "nbformat_minor": 2
}
